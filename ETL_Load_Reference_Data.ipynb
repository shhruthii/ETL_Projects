{
 "cells": [
  {
   "cell_type": "code",
   "execution_count": null,
   "id": "15ca7616",
   "metadata": {},
   "outputs": [],
   "source": [
    "#importing needed libraries\n",
    "from sqlalchemy import create_engine\n",
    "import pyodbc\n",
    "import pandas as pd\n",
    "# this is imported from config folder\n",
    "import config.email as eml\n",
    "import os"
   ]
  },
  {
   "cell_type": "code",
   "execution_count": null,
   "id": "1bf65471",
   "metadata": {},
   "outputs": [],
   "source": [
    "#getting password from environmnet var\n",
    "pwd = os.environ['PGPASS']\n",
    "uid = os.environ['PGUID']\n",
    "server = \"localhost\"\n",
    "db = \"AdventureWorks\"\n",
    "port = \"5432\"\n",
    "dir = r'\\\\YourPC\\Shared\\Data\\Accounts'\n",
    "to = 'youremail@domain.com'"
   ]
  },
  {
   "cell_type": "code",
   "execution_count": null,
   "id": "d1bf3b53",
   "metadata": {},
   "outputs": [],
   "source": [
    "#extracting data from sql server\n",
    "def extract():\n",
    "    try:\n",
    "        # starting directory\n",
    "        directory = dir\n",
    "        # iterate over files in the directory\n",
    "        for filename in os.listdir(directory):\n",
    "            #getting filename without ext\n",
    "            file_wo_ext = os.path.splitext(filename)[0]\n",
    "            # only processing excel files\n",
    "            if filename.endswith(\".xlsx\"):\n",
    "                f = os.path.join(directory, filename)\n",
    "                # checking if it is a file\n",
    "                if os.path.isfile(f):\n",
    "                    df = pd.read_excel(f)\n",
    "                    # calling to load\n",
    "                    load(df, file_wo_ext)\n",
    "    except Exception as e:\n",
    "        eml.send_mail(to, \"File Upload, Data extract error: \", f\"Data extract error: File location {dir}\" + str(e))\n",
    "        print(\"Data extract error: \" + str(e))"
   ]
  },
  {
   "cell_type": "code",
   "execution_count": null,
   "id": "9292e143",
   "metadata": {},
   "outputs": [],
   "source": [
    "#loading data to postgres\n",
    "def load(df, tbl):\n",
    "    try:\n",
    "        rows_imported = 0\n",
    "        engine = create_engine(f'postgresql://{uid}:{pwd}@{server}:{port}/{db}')\n",
    "        print(f'importing rows {rows_imported} to {rows_imported + len(df)}... ')\n",
    "        # saving df to postgres\n",
    "        df.to_sql(f\"stg_{tbl}\", engine, if_exists='replace', index=False)\n",
    "        rows_imported += len(df)\n",
    "        # adding elapsed time to final print out\n",
    "        print(\"Data imported successful\")\n",
    "        eml.send_mail(to, \"File Uploaded, Data load successful: \", \"Data load notification for : \" + f\"stg_{tbl}\")\n",
    "    except Exception as e:\n",
    "        eml.send_mail(to, \"File Upload Data load error: \", f\"Data extract error: File location {dir}\"  + str(e))\n",
    "        print(\"Data load error: \" + str(e))\n",
    "\n",
    "try:\n",
    "    #call extract function\n",
    "    df = extract()\n",
    "except Exception as e:\n",
    "    eml.send_mail(to, \"File Upload, Data extract error: \", f\"Function call to file mapping, Data extract error: File location {dir}\" + str(e))\n",
    "    print(\"Error while extracting data: \" + str(e))\n"
   ]
  }
 ],
 "metadata": {
  "language_info": {
   "name": "python"
  }
 },
 "nbformat": 4,
 "nbformat_minor": 5
}
