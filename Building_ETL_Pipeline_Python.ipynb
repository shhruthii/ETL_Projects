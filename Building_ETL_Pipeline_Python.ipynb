{
 "cells": [
  {
   "cell_type": "code",
   "execution_count": null,
   "id": "dd2e282c",
   "metadata": {},
   "outputs": [],
   "source": [
    "#importing libraries\n",
    "from sqlalchemy import create_engine\n",
    "from sqlalchemy.engine import URL\n",
    "import pandas as pd\n",
    "import os"
   ]
  },
  {
   "cell_type": "code",
   "execution_count": null,
   "id": "1f0c5eca",
   "metadata": {},
   "outputs": [],
   "source": [
    "#getting password from environmnet var\n",
    "pwd = os.environ['PGPASS']\n",
    "uid = os.environ['PGUID']"
   ]
  },
  {
   "cell_type": "code",
   "execution_count": null,
   "id": "6ad0fce5",
   "metadata": {},
   "outputs": [],
   "source": [
    "#sql db details\n",
    "driver = \"{SQL Server Native Client 11.0}\"\n",
    "server = \"localhost\"\n",
    "database = \"AdventureWorksDW2019;\""
   ]
  },
  {
   "cell_type": "code",
   "execution_count": null,
   "id": "f1a9e2d9",
   "metadata": {},
   "outputs": [],
   "source": [
    "#extracting data from sql server\n",
    "def extract():\n",
    "    try:\n",
    "        connection_string = 'DRIVER=' + driver + ';SERVER=' + server + ';DATABASE=' + database + ';UID=' + uid + ';PWD=' + pwd\n",
    "        connection_url = URL.create(\"mssql+pyodbc\", query={\"odbc_connect\": connection_string})\n",
    "        src_engine = create_engine(connection_url)\n",
    "        src_conn = src_engine.connect()\n",
    "        # executing query\n",
    "        query = \"\"\" select  t.name as table_name\n",
    "        from sys.tables t where t.name in ('DimProduct','DimProductSubcategory','DimProductSubcategory','DimProductCategory','DimSalesTerritory','FactInternetSales') \"\"\"\n",
    "        src_tables = pd.read_sql_query(query, src_conn).to_dict()['table_name']\n",
    "\n",
    "        for id in src_tables:\n",
    "            table_name = src_tables[id]\n",
    "            df = pd.read_sql_query(f'select * FROM {table_name}', src_conn)\n",
    "            load(df, table_name)\n",
    "\n",
    "    except Exception as e:\n",
    "        print(\"Data extract error: \" + str(e))"
   ]
  },
  {
   "cell_type": "code",
   "execution_count": null,
   "id": "ae3b7874",
   "metadata": {},
   "outputs": [],
   "source": [
    "#loading data to postgres\n",
    "def load(df, tbl):\n",
    "    try:\n",
    "        rows_imported = 0\n",
    "        engine = create_engine(f'postgresql://{uid}:{pwd}@{server}:5432/adventureworks')\n",
    "        print(f'importing rows {rows_imported} to {rows_imported + len(df)}... for table {tbl}')\n",
    "        # saveing df to postgres\n",
    "        df.to_sql(f'stg_{tbl}', engine, if_exists='replace', index=False, chunksize=100000)\n",
    "        rows_imported += len(df)\n",
    "        # adding elapsed time to final print out\n",
    "        print(\"Data imported successful\")\n",
    "    except Exception as e:\n",
    "        print(\"Data load error: \" + str(e))\n",
    "\n",
    "try:\n",
    "    #calling extract function\n",
    "    extract()\n",
    "except Exception as e:\n",
    "    print(\"Error while extracting data: \" + str(e))\n"
   ]
  }
 ],
 "metadata": {
  "language_info": {
   "name": "python"
  }
 },
 "nbformat": 4,
 "nbformat_minor": 5
}
