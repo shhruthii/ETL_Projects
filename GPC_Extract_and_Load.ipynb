{
 "cells": [
  {
   "cell_type": "code",
   "execution_count": null,
   "id": "2c24776c",
   "metadata": {},
   "outputs": [],
   "source": [
    "#importing libraries\n",
    "import time\n",
    "from datetime import datetime\n",
    "from airflow.decorators import dag, task\n",
    "from airflow.providers.microsoft.mssql.hooks.mssql import MsSqlHook\n",
    "import pandas as pd\n",
    "from google.oauth2 import service_account"
   ]
  },
  {
   "cell_type": "code",
   "execution_count": null,
   "id": "a01d6822",
   "metadata": {},
   "outputs": [],
   "source": [
    "# Declaring Dag\n",
    "@dag(schedule_interval=\"0 10 * * *\", start_date=datetime(2022, 2, 15), catchup=False, tags=['load_gcp'])\n",
    "# Defining Dag Function\n",
    "def extract_and_load():\n",
    "# Defining tasks\n",
    "    @task()\n",
    "    def sql_extract():\n",
    "        try:\n",
    "            hook = MsSqlHook(mssql_conn_id=\"sqlserver\")\n",
    "            sql = \"\"\" select  t.name as table_name  \n",
    "            from sys.tables t where t.name in ('DimSalesTerritory') \"\"\"\n",
    "            df = hook.get_pandas_df(sql)\n",
    "            # print(df.head())\n",
    "            print(df)\n",
    "            tbl_dict = df.to_dict('dict')\n",
    "            return tbl_dict\n",
    "        except Exception as e:\n",
    "            print(\"Data extract error: \" + str(e))\n",
    "    #\n",
    "    @task()\n",
    "    def gcp_load(tbl_dict: dict):\n",
    "        #\n",
    "        try:\n",
    "            credentials = service_account.Credentials.from_service_account_file( '/home/airflow/dotted-music-357620-02b4a53537b7.json')\n",
    "            project_id = \"your-gcp-account-id\"\n",
    "            dateset_ref = \"AdventureWorks\"\n",
    "            # \n",
    "            for value in tbl_dict.values():\n",
    "                #print(value)\n",
    "                val = value.values()\n",
    "                for v in val:\n",
    "                    #print(v)\n",
    "                    rows_imported = 0\n",
    "                    sql = f'select * FROM {v}'\n",
    "                    hook = MsSqlHook(mssql_conn_id=\"sqlserver\")\n",
    "                    df = hook.get_pandas_df(sql)\n",
    "                    print(f'importing rows {rows_imported} to {rows_imported + len(df)}... for table {v} ')\n",
    "                    df.to_gbq( destination_table=f'{dateset_ref}.src_{v}',  project_id=project_id, credentials=credentials, if_exists=\"replace\" )\n",
    "                    rows_imported += len(df)\n",
    "        except Exception as e:\n",
    "            print(\"Data load error: \" + str(e))\n",
    "    # calling task functions\n",
    "    tbl_dict = sql_extract()\n",
    "    tbl_summary = gcp_load(tbl_dict)\n",
    "#\n",
    "gcp_extract_and_load = extract_and_load()\n"
   ]
  }
 ],
 "metadata": {
  "language_info": {
   "name": "python"
  }
 },
 "nbformat": 4,
 "nbformat_minor": 5
}
